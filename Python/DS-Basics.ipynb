{
 "cells": [
  {
   "cell_type": "markdown",
   "metadata": {},
   "source": [
    "## Data Structures - Python"
   ]
  },
  {
   "cell_type": "markdown",
   "metadata": {},
   "source": [
    "#### 1 - Arrays"
   ]
  },
  {
   "cell_type": "code",
   "execution_count": 1,
   "metadata": {},
   "outputs": [
    {
     "data": {
      "text/plain": [
       "[10, 15, 20, 25, 30]"
      ]
     },
     "execution_count": 1,
     "metadata": {},
     "output_type": "execute_result"
    }
   ],
   "source": [
    "array1 = [10,15,20,25,30]\n",
    "array1"
   ]
  },
  {
   "cell_type": "code",
   "execution_count": 2,
   "metadata": {},
   "outputs": [
    {
     "data": {
      "text/plain": [
       "list"
      ]
     },
     "execution_count": 2,
     "metadata": {},
     "output_type": "execute_result"
    }
   ],
   "source": [
    "type(array1)"
   ]
  },
  {
   "cell_type": "code",
   "execution_count": 12,
   "metadata": {},
   "outputs": [
    {
     "name": "stdout",
     "output_type": "stream",
     "text": [
      "[10, 60, 15, 20, 25, 30]\n",
      "[10, 15, 20, 25, 30]\n"
     ]
    },
    {
     "data": {
      "text/plain": [
       "4"
      ]
     },
     "execution_count": 12,
     "metadata": {},
     "output_type": "execute_result"
    }
   ],
   "source": [
    "# adding element \n",
    "array1.insert(1, 60)\n",
    "print(array1)\n",
    "# remove element\n",
    "array1.remove(60)\n",
    "print(array1)\n",
    "#search element - gives index number\n",
    "array1.index(30)"
   ]
  },
  {
   "cell_type": "markdown",
   "metadata": {},
   "source": [
    "#### 2 - Lists"
   ]
  },
  {
   "cell_type": "code",
   "execution_count": 17,
   "metadata": {},
   "outputs": [
    {
     "name": "stdout",
     "output_type": "stream",
     "text": [
      "['a', 'c', 'd', 'e', 'f']\n"
     ]
    }
   ],
   "source": [
    "list1 = ['a', 'b', 'c', 'd', 'e', 'f']\n",
    "# deletes list\n",
    "del list1[1]\n",
    "print(list1)"
   ]
  },
  {
   "cell_type": "code",
   "execution_count": 19,
   "metadata": {},
   "outputs": [
    {
     "data": {
      "text/plain": [
       "['a', 'c', 'd', 'e', 'f']"
      ]
     },
     "execution_count": 19,
     "metadata": {},
     "output_type": "execute_result"
    }
   ],
   "source": [
    "[ x for x in list1]"
   ]
  },
  {
   "cell_type": "markdown",
   "metadata": {},
   "source": [
    "#### 3 - Arrays"
   ]
  },
  {
   "cell_type": "code",
   "execution_count": 21,
   "metadata": {},
   "outputs": [],
   "source": [
    "T = [[11, 12, 5, 2], [15, 6,10], [10, 8, 12, 5], [12,15,8,6]]\n",
    "T.insert(2, [10,10,10,10])"
   ]
  },
  {
   "cell_type": "code",
   "execution_count": 30,
   "metadata": {},
   "outputs": [
    {
     "name": "stdout",
     "output_type": "stream",
     "text": [
      "11 12 5 2 \n",
      "15 6 10 \n",
      "10 10 10 10 \n",
      "10 8 12 5 \n",
      "12 15 8 6 \n"
     ]
    }
   ],
   "source": [
    "for r in T:\n",
    "    for c in r:\n",
    "        print(c, end= \" \")\n",
    "    print()    \n",
    "    "
   ]
  },
  {
   "cell_type": "code",
   "execution_count": 33,
   "metadata": {},
   "outputs": [],
   "source": [
    "# to delete 2nd index\n",
    "del T[2]"
   ]
  },
  {
   "cell_type": "code",
   "execution_count": 35,
   "metadata": {},
   "outputs": [
    {
     "name": "stdout",
     "output_type": "stream",
     "text": [
      "[[11, 12, 5, 2], [15, 6, 10], [10, 8, 12, 5], [12, 15, 8, 6]]\n"
     ]
    }
   ],
   "source": [
    "print(T)"
   ]
  },
  {
   "cell_type": "markdown",
   "metadata": {},
   "source": [
    "#### 4 - Matrix"
   ]
  },
  {
   "cell_type": "code",
   "execution_count": 55,
   "metadata": {},
   "outputs": [],
   "source": [
    "import numpy as np\n",
    "from numpy import *"
   ]
  },
  {
   "cell_type": "code",
   "execution_count": 54,
   "metadata": {},
   "outputs": [
    {
     "name": "stdout",
     "output_type": "stream",
     "text": [
      "(3, 6)\n",
      "[['mon' '18' '2' '1' '1' '1']\n",
      " ['Tue' '1' '1' '2' '4' '5']\n",
      " ['wed' '1' '2' '3' '4' '5']]\n",
      "\n",
      "\n",
      "[['mon' '18' '2']\n",
      " ['1' '1' '1']\n",
      " ['Tue' '1' '1']\n",
      " ['2' '4' '5']\n",
      " ['wed' '1' '2']\n",
      " ['3' '4' '5']]\n",
      "2\n",
      "\n",
      "\n",
      "['mon' '18' '2' '1' '1' '1' 'Tue' '1' '1' '2' '4' '5' 'wed' '1' '2' '3'\n",
      " '4' '5' 'thus' '1' '2' '3' '4' '5']\n"
     ]
    }
   ],
   "source": [
    "a = np.array([['mon', 18,2,1,1,1], ['Tue', 1,1,2,4,5], ['wed', 1,2,3,4,5]])\n",
    "print(a.shape) # 2,6\n",
    "print(a)\n",
    "print('\\n')\n",
    "m = a.reshape((6,3))\n",
    "print(m)\n",
    "print(m[0][2])\n",
    "# append\n",
    "m_add = np.append(m, [['thus', 1,2,3,4,5]])\n",
    "print('\\n')\n",
    "print(m_add)"
   ]
  },
  {
   "cell_type": "code",
   "execution_count": 85,
   "metadata": {},
   "outputs": [
    {
     "data": {
      "text/plain": [
       "array([['mon', '18', '2', '1', '1', '1'],\n",
       "       ['Tue', '1', '1', '2', '4', '5'],\n",
       "       ['wed', '1', '2', '3', '4', '5']], dtype='<U3')"
      ]
     },
     "execution_count": 85,
     "metadata": {},
     "output_type": "execute_result"
    }
   ],
   "source": [
    "m = array([['mon', 18,2,1,1,1], ['Tue', 1,1,2,4,5], ['wed', 1,2,3,4,5]])\n",
    "m"
   ]
  },
  {
   "cell_type": "code",
   "execution_count": 69,
   "metadata": {},
   "outputs": [],
   "source": [
    "m = delete(m, [1], 1)"
   ]
  },
  {
   "cell_type": "code",
   "execution_count": 71,
   "metadata": {},
   "outputs": [
    {
     "name": "stdout",
     "output_type": "stream",
     "text": [
      "[['mon' '2' '1' '1' '1']\n",
      " ['Tue' '1' '2' '4' '5']\n",
      " ['wed' '2' '3' '4' '5']]\n"
     ]
    }
   ],
   "source": [
    "print(m)"
   ]
  },
  {
   "cell_type": "code",
   "execution_count": 84,
   "metadata": {},
   "outputs": [
    {
     "data": {
      "text/plain": [
       "array([['Mon', '18', '20', '22', '17'],\n",
       "       ['Tue', '11', '18', '21', '18'],\n",
       "       ['Wed', '15', '21', '20', '19'],\n",
       "       ['Thu', '0', '0', '0', '0'],\n",
       "       ['Fri', '18', '17', '23', '22'],\n",
       "       ['Sat', '12', '22', '20', '18'],\n",
       "       ['Sun', '13', '15', '19', '16']], dtype='<U3')"
      ]
     },
     "execution_count": 84,
     "metadata": {},
     "output_type": "execute_result"
    }
   ],
   "source": [
    "m"
   ]
  },
  {
   "cell_type": "code",
   "execution_count": 91,
   "metadata": {},
   "outputs": [
    {
     "name": "stdout",
     "output_type": "stream",
     "text": [
      "[['Mon' '18' '20' '22' '17']\n",
      " ['Tue' '11' '18' '21' '18']\n",
      " ['Wed' '15' '21' '20' '19']\n",
      " ['Thu' '0' '0' '0' '0']\n",
      " ['Fri' '18' '17' '23' '22']\n",
      " ['Sat' '12' '22' '20' '18']\n",
      " ['Sun' '13' '15' '19' '16']]\n"
     ]
    }
   ],
   "source": [
    "from numpy import * \n",
    "m = array([['Mon',18,20,22,17],['Tue',11,18,21,18],\n",
    "\t\t   ['Wed',15,21,20,19],['Thu',11,20,22,21],\n",
    "\t\t   ['Fri',18,17,23,22],['Sat',12,22,20,18],\n",
    "\t\t   ['Sun',13,15,19,16]])\n",
    "    \n",
    "m[3] = ['Thu',0,0,0,0]\n",
    "\n",
    "print(m)"
   ]
  },
  {
   "cell_type": "markdown",
   "metadata": {},
   "source": [
    "#### 4 - Sets"
   ]
  },
  {
   "cell_type": "code",
   "execution_count": 92,
   "metadata": {},
   "outputs": [
    {
     "data": {
      "text/plain": [
       "{'Fri', 'Mon', 'Sat', 'Sun', 'Thu', 'Tue', 'Wed'}"
      ]
     },
     "execution_count": 92,
     "metadata": {},
     "output_type": "execute_result"
    }
   ],
   "source": [
    "days = set([\"Mon\",\"Tue\",\"Wed\",\"Thu\",\"Fri\",\"Sat\",\"Sun\"])\n",
    "days"
   ]
  },
  {
   "cell_type": "code",
   "execution_count": 93,
   "metadata": {},
   "outputs": [
    {
     "name": "stdout",
     "output_type": "stream",
     "text": [
      "Mon\n",
      "Sun\n",
      "Fri\n",
      "Sat\n",
      "Thu\n",
      "Wed\n",
      "Tue\n"
     ]
    }
   ],
   "source": [
    "for d in days:\n",
    "    print(d)\n"
   ]
  },
  {
   "cell_type": "code",
   "execution_count": 95,
   "metadata": {},
   "outputs": [
    {
     "name": "stdout",
     "output_type": "stream",
     "text": [
      "{'Mon', 'Sun', 'Fri', 'Sat', 'Thu', 'Wed', 'Tue'}\n"
     ]
    }
   ],
   "source": [
    "days.add(\"Sun\")\n",
    "print(days)"
   ]
  },
  {
   "cell_type": "code",
   "execution_count": 96,
   "metadata": {},
   "outputs": [],
   "source": [
    "days.remove(\"Sun\")"
   ]
  },
  {
   "cell_type": "code",
   "execution_count": 97,
   "metadata": {},
   "outputs": [
    {
     "data": {
      "text/plain": [
       "{'Fri', 'Mon', 'Sat', 'Thu', 'Tue', 'Wed'}"
      ]
     },
     "execution_count": 97,
     "metadata": {},
     "output_type": "execute_result"
    }
   ],
   "source": [
    "days"
   ]
  },
  {
   "cell_type": "code",
   "execution_count": 100,
   "metadata": {},
   "outputs": [],
   "source": [
    "days.discard(\"Mon\")"
   ]
  },
  {
   "cell_type": "code",
   "execution_count": 101,
   "metadata": {},
   "outputs": [
    {
     "data": {
      "text/plain": [
       "{'Fri', 'Sat', 'Thu', 'Tue', 'Wed'}"
      ]
     },
     "execution_count": 101,
     "metadata": {},
     "output_type": "execute_result"
    }
   ],
   "source": [
    "days"
   ]
  },
  {
   "cell_type": "code",
   "execution_count": 107,
   "metadata": {},
   "outputs": [
    {
     "name": "stdout",
     "output_type": "stream",
     "text": [
      "{'Mon', 'Sun', 'Fri', 'Sat', 'Thu', 'Wed', 'Tue'}\n",
      "{'Wed'}\n",
      "{'Mon', 'Tue'}\n",
      "True\n",
      "True\n"
     ]
    }
   ],
   "source": [
    "DaysA = set([\"Mon\",\"Tue\",\"Wed\"])\n",
    "DaysB = set([\"Wed\",\"Thu\",\"Fri\",\"Sat\",\"Sun\"])\n",
    "\n",
    "union = DaysA | DaysB\n",
    "print(union)\n",
    "\n",
    "intersect = DaysA & DaysB\n",
    "print(intersect)\n",
    "\n",
    "diff = DaysA - DaysB\n",
    "print(diff)\n",
    "\n",
    "DaysA1 = set([\"Mon\",\"Tue\",\"Wed\"])\n",
    "DaysB1 = set([\"Mon\",\"Tue\",\"Wed\",\"Thu\",\"Fri\",\"Sat\",\"Sun\"])\n",
    "\n",
    "subset = DaysA1 <= DaysB1\n",
    "print(subset)\n",
    "\n",
    "superset = DaysB1 >= DaysA1\n",
    "print(superset)"
   ]
  },
  {
   "cell_type": "markdown",
   "metadata": {},
   "source": [
    "#### 5 - Maps i.e. Chain Maps"
   ]
  },
  {
   "cell_type": "code",
   "execution_count": 109,
   "metadata": {},
   "outputs": [],
   "source": [
    "# if duplicate then only one is preserved\n",
    "import collections\n",
    "\n",
    "dict1 = {'day1': 'Mon', 'day2': 'Tue'}\n",
    "dict2 = {'day3': 'Wed', 'day4': 'Thus'}\n",
    "\n",
    "res = collections.ChainMap(dict1, dict2)\n"
   ]
  },
  {
   "cell_type": "code",
   "execution_count": 124,
   "metadata": {},
   "outputs": [
    {
     "name": "stdout",
     "output_type": "stream",
     "text": [
      "ChainMap({'day1': 'Mon', 'day2': 'Tue'}, {'day3': 'Wed', 'day4': 'Thus'})\n",
      "<class 'collections.ChainMap'>\n",
      "<class 'collections.abc.KeysView'>\n",
      "<class 'collections.abc.ValuesView'>\n",
      "<class 'collections.abc.ItemsView'>\n"
     ]
    }
   ],
   "source": [
    "print(res)\n",
    "print(type(res))\n",
    "print(type((res.keys())))\n",
    "print(type(res.values()))\n",
    "print(type(res.items()))"
   ]
  },
  {
   "cell_type": "code",
   "execution_count": 130,
   "metadata": {},
   "outputs": [
    {
     "name": "stdout",
     "output_type": "stream",
     "text": [
      "[{'day1': 'Mon', 'day2': 'Tue'}, {'day3': 'Wed', 'day4': 'Thus'}]\n",
      "---\n",
      "KeysView(ChainMap({'day1': 'Mon', 'day2': 'Tue'}, {'day3': 'Wed', 'day4': 'Thus'}))\n",
      "---\n",
      "ValuesView(ChainMap({'day1': 'Mon', 'day2': 'Tue'}, {'day3': 'Wed', 'day4': 'Thus'}))\n",
      "---\n",
      "ItemsView(ChainMap({'day1': 'Mon', 'day2': 'Tue'}, {'day3': 'Wed', 'day4': 'Thus'}))\n",
      "\n",
      "['day3', 'day4', 'day1', 'day2']\n",
      "---\n",
      "['Wed', 'Thus', 'Mon', 'Tue']\n",
      "---\n",
      "- Items [('day3', 'Wed'), ('day4', 'Thus'), ('day1', 'Mon'), ('day2', 'Tue')]\n",
      "\n",
      "elements:\n",
      "day3 = Wed\n",
      "day4 = Thus\n",
      "day1 = Mon\n",
      "day2 = Tue\n",
      "---\n",
      "---\n"
     ]
    }
   ],
   "source": [
    "print(res.maps)\n",
    "print('---')\n",
    "print(res.keys())\n",
    "print('---')\n",
    "print(res.values())\n",
    "print('---')\n",
    "print(res.items())\n",
    "print()\n",
    "print(list(res.keys()))\n",
    "print('---')\n",
    "print(list(res.values()))\n",
    "print('---')\n",
    "print('- Items', list(res.items()))\n",
    "print()\n",
    "print(\"elements:\")\n",
    "for keys, val in (res.items()): #same as list(res.items())\n",
    "    print('{} = {}'.format(keys, val))\n",
    "print('---')\n",
    "print('---')"
   ]
  },
  {
   "cell_type": "code",
   "execution_count": 132,
   "metadata": {},
   "outputs": [],
   "source": [
    "dict2['day4'] = 'Fri'"
   ]
  },
  {
   "cell_type": "code",
   "execution_count": 133,
   "metadata": {},
   "outputs": [
    {
     "data": {
      "text/plain": [
       "{'day3': 'Wed', 'day4': 'Fri'}"
      ]
     },
     "execution_count": 133,
     "metadata": {},
     "output_type": "execute_result"
    }
   ],
   "source": [
    "dict2"
   ]
  }
 ],
 "metadata": {
  "kernelspec": {
   "display_name": "Python 3",
   "language": "python",
   "name": "python3"
  },
  "language_info": {
   "codemirror_mode": {
    "name": "ipython",
    "version": 3
   },
   "file_extension": ".py",
   "mimetype": "text/x-python",
   "name": "python",
   "nbconvert_exporter": "python",
   "pygments_lexer": "ipython3",
   "version": "3.7.4"
  }
 },
 "nbformat": 4,
 "nbformat_minor": 4
}
