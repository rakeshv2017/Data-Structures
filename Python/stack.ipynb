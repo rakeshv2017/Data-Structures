{
 "cells": [
  {
   "cell_type": "code",
   "execution_count": 1,
   "metadata": {},
   "outputs": [],
   "source": [
    "\"\"\"\n",
    "     Stack is LIFO \n",
    "     Stacks implementation using Arrays\n",
    "     push  - To push an item on the array\n",
    "     pop   - To Pop an item from array\n",
    "     peek - To peek into the array and get the pointer\n",
    "     empty - peturn boolean if it empty or not\n",
    "     print - prints the items and number of items in the list\n",
    "     \n",
    "     for javascript implementation check stacks.js\n",
    "     \n",
    "\"\"\"\n",
    "\n",
    "class Stack:\n",
    "    def __init__(self):\n",
    "        self.items = []\n",
    "\n",
    "    def empty(self):\n",
    "        return self.items == []\n",
    "        \n",
    "    def peek(self):\n",
    "        return self.items[len(self.items)-1]\n",
    "    \n",
    "#     def peek(self):\n",
    "#         print(self.items[-1])\n",
    "    \n",
    "    def push(self, item):\n",
    "        self.items.append(item)\n",
    "        print(\"item added\", self.items)\n",
    "    \n",
    "    def pop(self):\n",
    "        if self.items == []:\n",
    "            print(\"list is empty\")\n",
    "        else:\n",
    "            self.items.pop()\n",
    "            print(\"item remaining\", self.items)\n",
    "        \n",
    "    def printStack(self):\n",
    "        print(self.items)\n",
    "        print(len(self.items))\n",
    "        # return [x for x in self.items]"
   ]
  },
  {
   "cell_type": "code",
   "execution_count": 3,
   "metadata": {},
   "outputs": [],
   "source": [
    "stack = Stack()"
   ]
  },
  {
   "cell_type": "code",
   "execution_count": 58,
   "metadata": {},
   "outputs": [
    {
     "name": "stdout",
     "output_type": "stream",
     "text": [
      "item added [1]\n"
     ]
    }
   ],
   "source": [
    "stack.push(1)"
   ]
  },
  {
   "cell_type": "code",
   "execution_count": 59,
   "metadata": {},
   "outputs": [
    {
     "name": "stdout",
     "output_type": "stream",
     "text": [
      "[1]\n",
      "1\n"
     ]
    }
   ],
   "source": [
    "stack.printStack()"
   ]
  },
  {
   "cell_type": "code",
   "execution_count": 60,
   "metadata": {},
   "outputs": [
    {
     "name": "stdout",
     "output_type": "stream",
     "text": [
      "item added [1, 2]\n"
     ]
    }
   ],
   "source": [
    "stack.push(2)"
   ]
  },
  {
   "cell_type": "code",
   "execution_count": 61,
   "metadata": {},
   "outputs": [
    {
     "name": "stdout",
     "output_type": "stream",
     "text": [
      "item added [1, 2, 2]\n"
     ]
    }
   ],
   "source": [
    "stack.push(2)"
   ]
  },
  {
   "cell_type": "code",
   "execution_count": 4,
   "metadata": {},
   "outputs": [
    {
     "name": "stdout",
     "output_type": "stream",
     "text": [
      "list is empty\n"
     ]
    }
   ],
   "source": [
    "stack.pop()"
   ]
  },
  {
   "cell_type": "code",
   "execution_count": null,
   "metadata": {},
   "outputs": [],
   "source": []
  },
  {
   "cell_type": "code",
   "execution_count": null,
   "metadata": {},
   "outputs": [],
   "source": []
  }
 ],
 "metadata": {
  "kernelspec": {
   "display_name": "Python 3",
   "language": "python",
   "name": "python3"
  },
  "language_info": {
   "codemirror_mode": {
    "name": "ipython",
    "version": 3
   },
   "file_extension": ".py",
   "mimetype": "text/x-python",
   "name": "python",
   "nbconvert_exporter": "python",
   "pygments_lexer": "ipython3",
   "version": "3.7.4"
  }
 },
 "nbformat": 4,
 "nbformat_minor": 4
}
