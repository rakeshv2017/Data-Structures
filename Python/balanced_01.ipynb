{
 "cells": [
  {
   "cell_type": "code",
   "execution_count": null,
   "metadata": {},
   "outputs": [],
   "source": [
    "# To check for balanced parenthesis\n",
    "# all the commented code are for debugging    "
   ]
  },
  {
   "cell_type": "code",
   "execution_count": 67,
   "metadata": {},
   "outputs": [],
   "source": [
    "def balance_check(s):\n",
    " \n",
    "    open_para = set('{([')\n",
    "    pairs = {'{' : '}', '[' : ']', '(' : ')'}\n",
    "\n",
    "    items = []\n",
    "    \n",
    "    #check for odd numbers or length to return false\n",
    "    if (len(s) % 2 != 0 or len(s) ==0 ):\n",
    "        return False\n",
    "    else:  \n",
    "        for i in s:\n",
    "            if (i in open_para):\n",
    "                items.append(i)\n",
    "                #print(\"items appended\", items)\n",
    "            else:\n",
    "                # next item from the input\n",
    "                if len(items) == 0:\n",
    "                    print(\"No elements in stack\")\n",
    "                    return\n",
    "                temp_value = items.pop()\n",
    "                #print(\"ith value\", i)\n",
    "                #print(\"temp_value\", temp_value)\n",
    "                # compare this with dictionary\n",
    "                if (temp_value, i) not in pairs.items():\n",
    "                    return False\n",
    "                else:\n",
    "                    #print(\"{} - {}\".format(temp_value, i))\n",
    "                    return True\n",
    "                    #print(\"It is balanced!\")\n",
    "                "
   ]
  },
  {
   "cell_type": "code",
   "execution_count": 68,
   "metadata": {},
   "outputs": [
    {
     "data": {
      "text/plain": [
       "True"
      ]
     },
     "execution_count": 68,
     "metadata": {},
     "output_type": "execute_result"
    }
   ],
   "source": [
    "balance_check(\"()\")"
   ]
  },
  {
   "cell_type": "code",
   "execution_count": 69,
   "metadata": {},
   "outputs": [
    {
     "data": {
      "text/plain": [
       "True"
      ]
     },
     "execution_count": 69,
     "metadata": {},
     "output_type": "execute_result"
    }
   ],
   "source": [
    "balance_check(\"()[]{}\")"
   ]
  },
  {
   "cell_type": "code",
   "execution_count": 70,
   "metadata": {},
   "outputs": [
    {
     "data": {
      "text/plain": [
       "False"
      ]
     },
     "execution_count": 70,
     "metadata": {},
     "output_type": "execute_result"
    }
   ],
   "source": [
    "balance_check(\"(]\")"
   ]
  },
  {
   "cell_type": "code",
   "execution_count": 72,
   "metadata": {},
   "outputs": [
    {
     "data": {
      "text/plain": [
       "False"
      ]
     },
     "execution_count": 72,
     "metadata": {},
     "output_type": "execute_result"
    }
   ],
   "source": [
    "balance_check(\"([)]\")"
   ]
  },
  {
   "cell_type": "code",
   "execution_count": 73,
   "metadata": {},
   "outputs": [
    {
     "data": {
      "text/plain": [
       "False"
      ]
     },
     "execution_count": 73,
     "metadata": {},
     "output_type": "execute_result"
    }
   ],
   "source": [
    "balance_check(\"([)]\")"
   ]
  },
  {
   "cell_type": "code",
   "execution_count": null,
   "metadata": {},
   "outputs": [],
   "source": []
  }
 ],
 "metadata": {
  "kernelspec": {
   "display_name": "Python 3",
   "language": "python",
   "name": "python3"
  },
  "language_info": {
   "codemirror_mode": {
    "name": "ipython",
    "version": 3
   },
   "file_extension": ".py",
   "mimetype": "text/x-python",
   "name": "python",
   "nbconvert_exporter": "python",
   "pygments_lexer": "ipython3",
   "version": "3.7.4"
  }
 },
 "nbformat": 4,
 "nbformat_minor": 4
}
