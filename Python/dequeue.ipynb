{
 "cells": [
  {
   "cell_type": "markdown",
   "metadata": {},
   "source": [
    "## Dequeue"
   ]
  },
  {
   "cell_type": "code",
   "execution_count": null,
   "metadata": {},
   "outputs": [],
   "source": [
    "\"\"\"\n",
    "Dqueue - double ended queue\n",
    "       - hybrid linear structure\n",
    "       - items can be added/removed from either end\n",
    "       - combination of stacks and queues\n",
    "\"\"\""
   ]
  },
  {
   "cell_type": "code",
   "execution_count": 2,
   "metadata": {},
   "outputs": [],
   "source": [
    "class Deque:\n",
    "    \"\"\"\n",
    "    to initialize deque list\n",
    "    \n",
    "    \"\"\"\n",
    "    def __init__(self):\n",
    "        self.items = []\n",
    "    \n",
    "    def empty(self):\n",
    "        return self.items == []\n",
    "        print(\"there are no items in list\")\n",
    "    \n",
    "    def addFront(self, items):\n",
    "        print(\"adding on front\")\n",
    "        self.items.append(items)\n",
    "    \n",
    "    def addBack(self, items):\n",
    "        print(\"adding at back\")\n",
    "        self.items.insert(0,items)\n",
    "        \n",
    "    def removeFront(self):\n",
    "        print(\"removing element from front\")\n",
    "        return self.items.pop()\n",
    "    \n",
    "    def removeBack(self):\n",
    "        print(\"removing element from back\")\n",
    "        return self.items.pop(0)\n",
    "    \n",
    "    def size(self):\n",
    "        return (len(self.items))\n",
    "    \n",
    "    def printQueue(self):\n",
    "        return [x for x in self.items]"
   ]
  },
  {
   "cell_type": "code",
   "execution_count": 3,
   "metadata": {},
   "outputs": [],
   "source": [
    "# object created\n",
    "deque = Deque()"
   ]
  },
  {
   "cell_type": "code",
   "execution_count": 4,
   "metadata": {},
   "outputs": [
    {
     "name": "stdout",
     "output_type": "stream",
     "text": [
      "adding on front\n",
      "adding on front\n"
     ]
    }
   ],
   "source": [
    "deque.addFront(\"F1\")\n",
    "deque.addFront(\"F2\")"
   ]
  },
  {
   "cell_type": "code",
   "execution_count": 6,
   "metadata": {},
   "outputs": [
    {
     "name": "stdout",
     "output_type": "stream",
     "text": [
      "adding at back\n",
      "adding at back\n"
     ]
    }
   ],
   "source": [
    "deque.addBack(\"B1\")\n",
    "deque.addBack(\"B2\")"
   ]
  },
  {
   "cell_type": "code",
   "execution_count": 7,
   "metadata": {},
   "outputs": [
    {
     "data": {
      "text/plain": [
       "['B2', 'B1', 'F1', 'F2']"
      ]
     },
     "execution_count": 7,
     "metadata": {},
     "output_type": "execute_result"
    }
   ],
   "source": [
    "deque.printQueue()"
   ]
  },
  {
   "cell_type": "code",
   "execution_count": 8,
   "metadata": {},
   "outputs": [
    {
     "name": "stdout",
     "output_type": "stream",
     "text": [
      "removing element from front\n"
     ]
    },
    {
     "data": {
      "text/plain": [
       "['B2', 'B1', 'F1']"
      ]
     },
     "execution_count": 8,
     "metadata": {},
     "output_type": "execute_result"
    }
   ],
   "source": [
    "deque.removeFront()\n",
    "deque.printQueue()"
   ]
  },
  {
   "cell_type": "code",
   "execution_count": 9,
   "metadata": {},
   "outputs": [
    {
     "name": "stdout",
     "output_type": "stream",
     "text": [
      "removing element from back\n"
     ]
    },
    {
     "data": {
      "text/plain": [
       "['B1', 'F1']"
      ]
     },
     "execution_count": 9,
     "metadata": {},
     "output_type": "execute_result"
    }
   ],
   "source": [
    "deque.removeBack()\n",
    "deque.printQueue()"
   ]
  },
  {
   "cell_type": "code",
   "execution_count": 10,
   "metadata": {},
   "outputs": [
    {
     "data": {
      "text/plain": [
       "2"
      ]
     },
     "execution_count": 10,
     "metadata": {},
     "output_type": "execute_result"
    }
   ],
   "source": [
    "deque.size()"
   ]
  },
  {
   "cell_type": "code",
   "execution_count": null,
   "metadata": {},
   "outputs": [],
   "source": []
  }
 ],
 "metadata": {
  "kernelspec": {
   "display_name": "Python 3",
   "language": "python",
   "name": "python3"
  },
  "language_info": {
   "codemirror_mode": {
    "name": "ipython",
    "version": 3
   },
   "file_extension": ".py",
   "mimetype": "text/x-python",
   "name": "python",
   "nbconvert_exporter": "python",
   "pygments_lexer": "ipython3",
   "version": "3.7.4"
  }
 },
 "nbformat": 4,
 "nbformat_minor": 4
}
